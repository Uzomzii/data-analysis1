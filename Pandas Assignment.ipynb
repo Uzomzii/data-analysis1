{
 "cells": [
  {
   "cell_type": "markdown",
   "metadata": {},
   "source": [
    "# Pandas Assignment"
   ]
  },
  {
   "cell_type": "markdown",
   "metadata": {},
   "source": [
    "import pandas as pd\n",
    "import numpy as np"
   ]
  },
  {
   "cell_type": "code",
   "execution_count": null,
   "metadata": {},
   "outputs": [],
   "source": [
    "# Create a panda data series from the lists below. Using countries as Index and Capitals as values\n",
    "countries = ['USA', 'USSR', 'Japan', 'Italy']\n",
    "capitals = ['Washington', 'Moscow', 'Tokyo', 'Milan']"
   ]
  },
  {
   "cell_type": "code",
   "execution_count": null,
   "metadata": {},
   "outputs": [],
   "source": [
    "# Give the panda series a name \"WW2 Countries and Capitals\""
   ]
  },
  {
   "cell_type": "code",
   "execution_count": null,
   "metadata": {},
   "outputs": [],
   "source": [
    "# Get the Value for the capital of Japan "
   ]
  },
  {
   "cell_type": "code",
   "execution_count": 15,
   "metadata": {},
   "outputs": [],
   "source": [
    "start_date_deposits = pd.Series({'Nigeria':510.588,\n",
    "                                 'Egypt':435.621,\n",
    "                                 'South Africa':426.166,\n",
    "                                 'Algeria':193.601,\n",
    "                                 'Morocco':133.062,\n",
    "                                 'Angola':124.862,\n",
    "                                 'Kenya':114.679,\n",
    "                                 'Ethiopia':105.325,\n",
    "                                 'Tanzania':77.506,\n",
    "                                 'Ghana':73.894,\n",
    "                                 'Ivory Coast':73.047,\n",
    "                                 'Democratic Republic of the Congo':64.795,\n",
    "                                 'Libya':48.773,\n",
    "                                 'Uganda':46.377,\n",
    "                                 'Cameroon':45.713})"
   ]
  },
  {
   "cell_type": "markdown",
   "metadata": {},
   "source": [
    "#### The above data series contains some countries in Africa and their GDP in billions of dollars, calculate the following:\n",
    "1) Mean\n",
    "2) Mode\n",
    "3) Median\n",
    "4) The index of the lowest value\n",
    "5) The highest value"
   ]
  },
  {
   "cell_type": "code",
   "execution_count": null,
   "metadata": {},
   "outputs": [],
   "source": []
  },
  {
   "cell_type": "code",
   "execution_count": null,
   "metadata": {},
   "outputs": [],
   "source": []
  },
  {
   "cell_type": "code",
   "execution_count": null,
   "metadata": {},
   "outputs": [],
   "source": []
  },
  {
   "cell_type": "code",
   "execution_count": null,
   "metadata": {},
   "outputs": [],
   "source": []
  },
  {
   "cell_type": "code",
   "execution_count": null,
   "metadata": {},
   "outputs": [],
   "source": []
  },
  {
   "cell_type": "markdown",
   "metadata": {},
   "source": [
    "#### Given the data above:\n",
    "1) Get the first 3 items in the series\n",
    "2) Get the last 5 items in the series\n",
    "2) Get the index of the last 4 items in the series"
   ]
  },
  {
   "cell_type": "code",
   "execution_count": null,
   "metadata": {},
   "outputs": [],
   "source": []
  },
  {
   "cell_type": "code",
   "execution_count": null,
   "metadata": {},
   "outputs": [],
   "source": []
  },
  {
   "cell_type": "code",
   "execution_count": null,
   "metadata": {},
   "outputs": [],
   "source": []
  },
  {
   "cell_type": "markdown",
   "metadata": {},
   "source": [
    "#### Replicate the DataFrame below:\n",
    "1) from a dictionary of lists\n",
    "2) from a list of dictionaries\n",
    "3) the professional way"
   ]
  },
  {
   "cell_type": "code",
   "execution_count": 12,
   "metadata": {},
   "outputs": [
    {
     "data": {
      "text/html": [
       "<div>\n",
       "<style scoped>\n",
       "    .dataframe tbody tr th:only-of-type {\n",
       "        vertical-align: middle;\n",
       "    }\n",
       "\n",
       "    .dataframe tbody tr th {\n",
       "        vertical-align: top;\n",
       "    }\n",
       "\n",
       "    .dataframe thead th {\n",
       "        text-align: right;\n",
       "    }\n",
       "</style>\n",
       "<table border=\"1\" class=\"dataframe\">\n",
       "  <thead>\n",
       "    <tr style=\"text-align: right;\">\n",
       "      <th></th>\n",
       "      <th>Books</th>\n",
       "      <th>Authors</th>\n",
       "      <th>First Published</th>\n",
       "    </tr>\n",
       "  </thead>\n",
       "  <tbody>\n",
       "    <tr>\n",
       "      <td>A</td>\n",
       "      <td>A Tale of Two Cities</td>\n",
       "      <td>Charles Dickens</td>\n",
       "      <td>1859</td>\n",
       "    </tr>\n",
       "    <tr>\n",
       "      <td>B</td>\n",
       "      <td>The Little Prince</td>\n",
       "      <td>Antoine de Saint-Exupéry</td>\n",
       "      <td>1943</td>\n",
       "    </tr>\n",
       "    <tr>\n",
       "      <td>C</td>\n",
       "      <td>Harry Potter and the Philosopher's Stone</td>\n",
       "      <td>J. K. Rowling</td>\n",
       "      <td>1997</td>\n",
       "    </tr>\n",
       "    <tr>\n",
       "      <td>D</td>\n",
       "      <td>And Then There Were None</td>\n",
       "      <td>Agatha Christie</td>\n",
       "      <td>1939</td>\n",
       "    </tr>\n",
       "    <tr>\n",
       "      <td>E</td>\n",
       "      <td>Dream of the Red Chamber</td>\n",
       "      <td>Cao Xueqin</td>\n",
       "      <td>1791</td>\n",
       "    </tr>\n",
       "    <tr>\n",
       "      <td>F</td>\n",
       "      <td>The Lion, the Witch and the Wardrobe</td>\n",
       "      <td>C. S. Lewis</td>\n",
       "      <td>1950</td>\n",
       "    </tr>\n",
       "    <tr>\n",
       "      <td>G</td>\n",
       "      <td>The Da Vinci Code</td>\n",
       "      <td>Dan Brown</td>\n",
       "      <td>2003</td>\n",
       "    </tr>\n",
       "  </tbody>\n",
       "</table>\n",
       "</div>"
      ],
      "text/plain": [
       "                                      Books                   Authors  \\\n",
       "A                      A Tale of Two Cities           Charles Dickens   \n",
       "B                         The Little Prince  Antoine de Saint-Exupéry   \n",
       "C  Harry Potter and the Philosopher's Stone             J. K. Rowling   \n",
       "D                  And Then There Were None           Agatha Christie   \n",
       "E                  Dream of the Red Chamber                Cao Xueqin   \n",
       "F      The Lion, the Witch and the Wardrobe               C. S. Lewis   \n",
       "G                         The Da Vinci Code                 Dan Brown   \n",
       "\n",
       "   First Published  \n",
       "A             1859  \n",
       "B             1943  \n",
       "C             1997  \n",
       "D             1939  \n",
       "E             1791  \n",
       "F             1950  \n",
       "G             2003  "
      ]
     },
     "execution_count": 12,
     "metadata": {},
     "output_type": "execute_result"
    }
   ],
   "source": []
  },
  {
   "cell_type": "code",
   "execution_count": null,
   "metadata": {},
   "outputs": [],
   "source": []
  },
  {
   "cell_type": "code",
   "execution_count": null,
   "metadata": {},
   "outputs": [],
   "source": []
  },
  {
   "cell_type": "code",
   "execution_count": null,
   "metadata": {},
   "outputs": [],
   "source": []
  }
 ],
 "metadata": {
  "kernelspec": {
   "display_name": "Python 3",
   "language": "python",
   "name": "python3"
  },
  "language_info": {
   "codemirror_mode": {
    "name": "ipython",
    "version": 3
   },
   "file_extension": ".py",
   "mimetype": "text/x-python",
   "name": "python",
   "nbconvert_exporter": "python",
   "pygments_lexer": "ipython3",
   "version": "3.7.4"
  }
 },
 "nbformat": 4,
 "nbformat_minor": 2
}
