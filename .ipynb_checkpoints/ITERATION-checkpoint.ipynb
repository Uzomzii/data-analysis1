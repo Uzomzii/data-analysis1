{
 "cells": [
  {
   "cell_type": "markdown",
   "metadata": {},
   "source": [
    "## While loop"
   ]
  },
  {
   "cell_type": "code",
   "execution_count": 3,
   "metadata": {
    "collapsed": true
   },
   "outputs": [
    {
     "name": "stdout",
     "output_type": "stream",
     "text": [
      "Hello World\n",
      "Hello World\n",
      "Hello World\n",
      "Hello World\n",
      "Hello World\n"
     ]
    }
   ],
   "source": [
    "spam = 0\n",
    "while spam < 5:\n",
    "    print(\"Hello World\")\n",
    "    spam = spam + 1"
   ]
  },
  {
   "cell_type": "code",
   "execution_count": 4,
   "metadata": {
    "collapsed": true
   },
   "outputs": [
    {
     "name": "stdout",
     "output_type": "stream",
     "text": [
      "Please type in your name\n",
      "Uzoma\n",
      "Please type in your name\n",
      "Joel\n",
      "Please type in your name\n",
      "Tosin\n",
      "Please type in your name\n",
      "Loctech\n",
      "Hello you have been given access\n"
     ]
    }
   ],
   "source": [
    "name = ''\n",
    "while name != \"Loctech\":\n",
    "    print(\"Please type in your name\")\n",
    "    name = input()\n",
    "print(\"Hello you have been given access\")"
   ]
  },
  {
   "cell_type": "markdown",
   "metadata": {},
   "source": [
    "## For Loop"
   ]
  },
  {
   "cell_type": "code",
   "execution_count": 5,
   "metadata": {
    "collapsed": true
   },
   "outputs": [
    {
     "name": "stdout",
     "output_type": "stream",
     "text": [
      "Hello World\n",
      "Hello World\n",
      "Hello World\n",
      "Hello World\n",
      "Hello World\n"
     ]
    }
   ],
   "source": [
    "for i in range(5):\n",
    "    print(\"Hello World\")"
   ]
  },
  {
   "cell_type": "code",
   "execution_count": 6,
   "metadata": {
    "collapsed": true
   },
   "outputs": [
    {
     "name": "stdout",
     "output_type": "stream",
     "text": [
      "Joel you are invited to my birthday party\n",
      "Gift you are invited to my birthday party\n",
      "Pius you are invited to my birthday party\n"
     ]
    }
   ],
   "source": [
    "friends = [\"Joel\", \"Gift\", \"Pius\"]\n",
    "for i in friends:\n",
    "    print(i + \" you are invited to my birthday party\")"
   ]
  },
  {
   "cell_type": "code",
   "execution_count": 10,
   "metadata": {
    "collapsed": true
   },
   "outputs": [
    {
     "name": "stdout",
     "output_type": "stream",
     "text": [
      "5\n",
      "6\n",
      "7\n",
      "8\n",
      "9\n",
      "10\n"
     ]
    }
   ],
   "source": [
    "for i in range(5, 11):\n",
    "    print(i)"
   ]
  },
  {
   "cell_type": "markdown",
   "metadata": {},
   "source": [
    "## break statement"
   ]
  },
  {
   "cell_type": "code",
   "execution_count": 11,
   "metadata": {
    "collapsed": true
   },
   "outputs": [
    {
     "name": "stdout",
     "output_type": "stream",
     "text": [
      "Please type your name\n",
      "Loctech\n",
      "Please type your name\n",
      "John\n",
      "Thank You\n"
     ]
    }
   ],
   "source": [
    "while True:\n",
    "    print(\"Please type your name\")\n",
    "    name = input()\n",
    "    if name == \"John\":\n",
    "        break\n",
    "        \n",
    "print(\"Thank You\")"
   ]
  },
  {
   "cell_type": "markdown",
   "metadata": {},
   "source": [
    "## Continue Statement"
   ]
  },
  {
   "cell_type": "code",
   "execution_count": 15,
   "metadata": {
    "collapsed": true
   },
   "outputs": [
    {
     "name": "stdout",
     "output_type": "stream",
     "text": [
      "34\n",
      "78\n",
      "90\n",
      "12\n",
      "46\n",
      "22\n"
     ]
    }
   ],
   "source": [
    "nums = [75, 34, 65, 78, 90, 23, 12, 46, 22]\n",
    "for i in nums:\n",
    "    if i % 2 == 1:\n",
    "        continue\n",
    "    elif i % 2 == 0:\n",
    "        print(i)"
   ]
  },
  {
   "cell_type": "code",
   "execution_count": 16,
   "metadata": {
    "collapsed": true
   },
   "outputs": [
    {
     "name": "stdout",
     "output_type": "stream",
     "text": [
      "Who are you\n",
      "Uxoma\n",
      "Who are you\n",
      "Benjamin\n",
      "Hello, Benjamin. What is the password?\n",
      "password\n",
      "Who are you\n",
      "Benjamin\n",
      "Hello, Benjamin. What is the password?\n",
      "swordfish\n",
      "Access Granted\n"
     ]
    }
   ],
   "source": [
    "while True:\n",
    "    print(\"Who are you\")\n",
    "    name = input()\n",
    "    if name != \"Benjamin\":\n",
    "        continue\n",
    "    print(\"Hello, Benjamin. What is the password?\")\n",
    "    password = input()\n",
    "    if password == \"swordfish\":\n",
    "        break\n",
    "        \n",
    "print(\"Access Granted\")\n",
    "    \n",
    "    "
   ]
  },
  {
   "cell_type": "code",
   "execution_count": 20,
   "metadata": {
    "collapsed": true
   },
   "outputs": [
    {
     "name": "stdout",
     "output_type": "stream",
     "text": [
      "['Rae', 'Abe']\n"
     ]
    }
   ],
   "source": [
    "people = [\"Rae\", \"Abe\", \"Biodun\", \"Ada\", \"Stephen\"]\n",
    "a_people = []\n",
    "for i in people:\n",
    "    if i.endswith(\"e\"):\n",
    "        a_people.append(i)\n",
    "print(a_people)"
   ]
  },
  {
   "cell_type": "markdown",
   "metadata": {},
   "source": [
    "## Looping Over Dictionaries"
   ]
  },
  {
   "cell_type": "code",
   "execution_count": 25,
   "metadata": {
    "collapsed": true
   },
   "outputs": [
    {
     "data": {
      "text/plain": [
       "4"
      ]
     },
     "execution_count": 25,
     "metadata": {},
     "output_type": "execute_result"
    }
   ],
   "source": [
    "picnic_items = {'apples':4, 'mats':2, 'baskets':3, 'sandwiches':9}\n",
    "picnic_items['apples']"
   ]
  },
  {
   "cell_type": "code",
   "execution_count": 22,
   "metadata": {
    "collapsed": true
   },
   "outputs": [
    {
     "data": {
      "text/plain": [
       "dict_values([4, 2, 3, 9])"
      ]
     },
     "execution_count": 22,
     "metadata": {},
     "output_type": "execute_result"
    }
   ],
   "source": [
    "picnic_items.values()"
   ]
  },
  {
   "cell_type": "code",
   "execution_count": 26,
   "metadata": {
    "collapsed": true
   },
   "outputs": [
    {
     "name": "stdout",
     "output_type": "stream",
     "text": [
      "We are bringing apples to the picnic\n",
      "We are bringing mats to the picnic\n",
      "We are bringing baskets to the picnic\n",
      "We are bringing sandwiches to the picnic\n"
     ]
    }
   ],
   "source": [
    "for i in picnic_items.keys():\n",
    "    print(\"We are bringing \" + i + \" to the picnic\")"
   ]
  },
  {
   "cell_type": "code",
   "execution_count": 29,
   "metadata": {
    "collapsed": true
   },
   "outputs": [
    {
     "name": "stdout",
     "output_type": "stream",
     "text": [
      "We are bringing 4 apples to the picnic\n",
      "We are bringing 2 mats to the picnic\n",
      "We are bringing 3 baskets to the picnic\n",
      "We are bringing 9 sandwiches to the picnic\n"
     ]
    }
   ],
   "source": [
    "for key, value in picnic_items.items():\n",
    "    print(\"We are bringing\",value, key + \" to the picnic\")"
   ]
  },
  {
   "cell_type": "code",
   "execution_count": null,
   "metadata": {
    "collapsed": true
   },
   "outputs": [],
   "source": []
  }
 ],
 "metadata": {
  "kernelspec": {
   "display_name": "Python 3 (ipykernel)",
   "language": "python",
   "name": "python3"
  },
  "language_info": {
   "codemirror_mode": {
    "name": "ipython",
    "version": 3
   },
   "file_extension": ".py",
   "mimetype": "text/x-python",
   "name": "python",
   "nbconvert_exporter": "python",
   "pygments_lexer": "ipython3",
   "version": "3.9.12"
  }
 },
 "nbformat": 4,
 "nbformat_minor": 2
}
