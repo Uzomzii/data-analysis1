{
 "cells": [
  {
   "cell_type": "markdown",
   "metadata": {},
   "source": [
    "# FUNCTIONS"
   ]
  },
  {
   "cell_type": "markdown",
   "metadata": {},
   "source": [
    "## Compound Interest"
   ]
  },
  {
   "cell_type": "code",
   "execution_count": 5,
   "metadata": {},
   "outputs": [],
   "source": [
    "principal = 20000\n",
    "rate = 0.05\n",
    "number_compounded = 2\n",
    "time = 3\n",
    "compound_interest = principal * (1 + rate/number_compounded)**(number_compounded*time)\n"
   ]
  },
  {
   "cell_type": "code",
   "execution_count": 4,
   "metadata": {},
   "outputs": [
    {
     "name": "stdout",
     "output_type": "stream",
     "text": [
      "The compound interest for John's loan is 20197.879753981302\n"
     ]
    }
   ],
   "source": [
    "print(\"The compound interest for John's loan is\", compound_interest)"
   ]
  },
  {
   "cell_type": "code",
   "execution_count": 6,
   "metadata": {},
   "outputs": [
    {
     "name": "stdout",
     "output_type": "stream",
     "text": [
      "The compound interest for Nkechi's loan is 23193.8683642578\n"
     ]
    }
   ],
   "source": [
    "print(\"The compound interest for Nkechi's loan is\", compound_interest)"
   ]
  },
  {
   "cell_type": "code",
   "execution_count": 12,
   "metadata": {},
   "outputs": [],
   "source": [
    "def compound_interest(principal, rate, time, number_compounded):\n",
    "    ci = principal*(1+rate/number_compounded)**(number_compounded*time)\n",
    "    print(ci)"
   ]
  },
  {
   "cell_type": "code",
   "execution_count": 13,
   "metadata": {},
   "outputs": [
    {
     "name": "stdout",
     "output_type": "stream",
     "text": [
      "23193.8683642578\n",
      "60593.63926194391\n",
      "23394.880765597543\n"
     ]
    }
   ],
   "source": [
    "compound_interest(20000, 0.05, 3, 2)\n",
    "compound_interest(45000, 0.05, 6, 3)\n",
    "compound_interest(15000, 0.05, 9, 2)"
   ]
  },
  {
   "cell_type": "markdown",
   "metadata": {},
   "source": [
    "## Keyword Arguments"
   ]
  },
  {
   "cell_type": "code",
   "execution_count": 15,
   "metadata": {},
   "outputs": [
    {
     "name": "stdout",
     "output_type": "stream",
     "text": [
      "5.003000750100008e+22\n"
     ]
    }
   ],
   "source": [
    "compound_interest(0.05, 20000, 3, 2)"
   ]
  },
  {
   "cell_type": "code",
   "execution_count": 16,
   "metadata": {},
   "outputs": [
    {
     "name": "stdout",
     "output_type": "stream",
     "text": [
      "23193.8683642578\n"
     ]
    }
   ],
   "source": [
    "compound_interest(rate=0.05, principal=20000, time=3, number_compounded=2)"
   ]
  },
  {
   "cell_type": "markdown",
   "metadata": {},
   "source": [
    "## Functions that return values"
   ]
  },
  {
   "cell_type": "code",
   "execution_count": 17,
   "metadata": {},
   "outputs": [
    {
     "name": "stdout",
     "output_type": "stream",
     "text": [
      "23193.8683642578\n",
      "None\n"
     ]
    }
   ],
   "source": [
    "print(compound_interest(rate=0.05, principal=20000, time=3, number_compounded=2))"
   ]
  },
  {
   "cell_type": "code",
   "execution_count": 18,
   "metadata": {},
   "outputs": [
    {
     "name": "stdout",
     "output_type": "stream",
     "text": [
      "23193.8683642578\n",
      "John's compound interest is None\n"
     ]
    }
   ],
   "source": [
    "John = compound_interest(20000, 0.05, 3, 2)\n",
    "print(\"John's compound interest is\", John)"
   ]
  },
  {
   "cell_type": "code",
   "execution_count": 19,
   "metadata": {},
   "outputs": [],
   "source": [
    "def compound_interest(principal, rate, time, number_compounded):\n",
    "    ci = principal*(1+rate/number_compounded)**(number_compounded*time)\n",
    "    return ci"
   ]
  },
  {
   "cell_type": "code",
   "execution_count": 20,
   "metadata": {},
   "outputs": [
    {
     "data": {
      "text/plain": [
       "50707.12635593864"
      ]
     },
     "execution_count": 20,
     "metadata": {},
     "output_type": "execute_result"
    }
   ],
   "source": [
    "compound_interest(45000, 0.03, 4, 3)"
   ]
  },
  {
   "cell_type": "code",
   "execution_count": 32,
   "metadata": {},
   "outputs": [
    {
     "name": "stdout",
     "output_type": "stream",
     "text": [
      "John's compound interest is 50707.126356\n"
     ]
    }
   ],
   "source": [
    "John = compound_interest(45000, 0.03, 4, 3)\n",
    "print(\"John's compound interest is {:1f}\".format(John))"
   ]
  },
  {
   "cell_type": "markdown",
   "metadata": {},
   "source": [
    "## Functions inside functions"
   ]
  },
  {
   "cell_type": "code",
   "execution_count": 22,
   "metadata": {},
   "outputs": [],
   "source": [
    "def acceleration(initial_velocity, final_velocity, time):\n",
    "    acc = (final_velocity - initial_velocity)/time\n",
    "    return acc\n",
    "\n",
    "def force(mass, initial_velocity, final_velocity, time):\n",
    "    f = mass * acceleration(initial_velocity, final_velocity, time)\n",
    "    return f"
   ]
  },
  {
   "cell_type": "code",
   "execution_count": 23,
   "metadata": {},
   "outputs": [
    {
     "name": "stdout",
     "output_type": "stream",
     "text": [
      "22.5\n"
     ]
    }
   ],
   "source": [
    "print(force(45, 0, 5, 10))"
   ]
  },
  {
   "cell_type": "markdown",
   "metadata": {},
   "source": [
    "## Combining conditional statements and functions"
   ]
  },
  {
   "cell_type": "code",
   "execution_count": 24,
   "metadata": {},
   "outputs": [
    {
     "name": "stdout",
     "output_type": "stream",
     "text": [
      "Hello, welcome to Analysis bank. Please tell us your name? Uzoma\n",
      "Do you want to use simple interest or compound interest?simple interest\n",
      "Please put in your principal? 344556\n",
      "For how many months? 4\n",
      "Thank you Uzoma your simple interest is 68911.2\n"
     ]
    }
   ],
   "source": [
    "name = input(\"Hello, welcome to Analysis bank. Please tell us your name? \")\n",
    "account = input(\"Do you want to use simple interest or compound interest?\")\n",
    "\n",
    "def compound_interest(principal, rate, time, number_compounded):\n",
    "    ci = principal*(1+rate/number_compounded)**(number_compounded*time)\n",
    "    return ci\n",
    "\n",
    "def simple_interest(principal, rate, time):\n",
    "    si = principal * rate * time\n",
    "    return si\n",
    "\n",
    "if account.lower() == \"simple interest\":\n",
    "    principal = int(input(\"Please put in your principal? \"))\n",
    "    rate = 0.05\n",
    "    time = int(input(\"For how many months? \"))\n",
    "    si = simple_interest(principal, rate, time)\n",
    "    print(\"Thank you \" + name + \" your simple interest is\", si)\n",
    "elif account.lower() == \"compound interest\":\n",
    "    principal = int(input(\"Please put in your principal? \"))\n",
    "    rate = 0.05\n",
    "    time = int(input(\"For how many months? \"))\n",
    "    number_compounded = 3\n",
    "    ci = compound_interest(principal, rate, time, number_compounded)\n",
    "    print(\"Thank you \" + name + \" your compound interest is\", ci)\n",
    "else:\n",
    "    print(\"This option is not valid, thank you\")"
   ]
  },
  {
   "cell_type": "code",
   "execution_count": null,
   "metadata": {},
   "outputs": [],
   "source": []
  }
 ],
 "metadata": {
  "kernelspec": {
   "display_name": "Python 3 (ipykernel)",
   "language": "python",
   "name": "python3"
  },
  "language_info": {
   "codemirror_mode": {
    "name": "ipython",
    "version": 3
   },
   "file_extension": ".py",
   "mimetype": "text/x-python",
   "name": "python",
   "nbconvert_exporter": "python",
   "pygments_lexer": "ipython3",
   "version": "3.9.12"
  }
 },
 "nbformat": 4,
 "nbformat_minor": 2
}
