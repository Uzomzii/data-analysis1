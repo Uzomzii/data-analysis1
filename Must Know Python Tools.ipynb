{
 "cells": [
  {
   "cell_type": "markdown",
   "metadata": {},
   "source": [
    "### Iterating over range objects"
   ]
  },
  {
   "cell_type": "code",
   "execution_count": 1,
   "metadata": {},
   "outputs": [],
   "source": [
    "tups = (2, 4, 7, 9)\n",
    "lis = [21.4, 67.5, 78.30]\n",
    "string = 'abcde'"
   ]
  },
  {
   "cell_type": "code",
   "execution_count": 5,
   "metadata": {},
   "outputs": [
    {
     "name": "stdout",
     "output_type": "stream",
     "text": [
      "2 4 7 9 "
     ]
    }
   ],
   "source": [
    "for i in tups:\n",
    "    print(i, end=\" \")"
   ]
  },
  {
   "cell_type": "code",
   "execution_count": 6,
   "metadata": {},
   "outputs": [
    {
     "name": "stdout",
     "output_type": "stream",
     "text": [
      "21.4 67.5 78.3 "
     ]
    }
   ],
   "source": [
    "for item in lis:\n",
    "    print(item, end=\" \")"
   ]
  },
  {
   "cell_type": "code",
   "execution_count": 8,
   "metadata": {},
   "outputs": [
    {
     "name": "stdout",
     "output_type": "stream",
     "text": [
      "a b c d e "
     ]
    }
   ],
   "source": [
    "for char in string:\n",
    "    print(char, end=\" \")"
   ]
  },
  {
   "cell_type": "code",
   "execution_count": 9,
   "metadata": {
    "collapsed": true
   },
   "outputs": [
    {
     "name": "stdout",
     "output_type": "stream",
     "text": [
      "Help on class range in module builtins:\n",
      "\n",
      "class range(object)\n",
      " |  range(stop) -> range object\n",
      " |  range(start, stop[, step]) -> range object\n",
      " |  \n",
      " |  Return an object that produces a sequence of integers from start (inclusive)\n",
      " |  to stop (exclusive) by step.  range(i, j) produces i, i+1, i+2, ..., j-1.\n",
      " |  start defaults to 0, and stop is omitted!  range(4) produces 0, 1, 2, 3.\n",
      " |  These are exactly the valid indices for a list of 4 elements.\n",
      " |  When step is given, it specifies the increment (or decrement).\n",
      " |  \n",
      " |  Methods defined here:\n",
      " |  \n",
      " |  __bool__(self, /)\n",
      " |      self != 0\n",
      " |  \n",
      " |  __contains__(self, key, /)\n",
      " |      Return key in self.\n",
      " |  \n",
      " |  __eq__(self, value, /)\n",
      " |      Return self==value.\n",
      " |  \n",
      " |  __ge__(self, value, /)\n",
      " |      Return self>=value.\n",
      " |  \n",
      " |  __getattribute__(self, name, /)\n",
      " |      Return getattr(self, name).\n",
      " |  \n",
      " |  __getitem__(self, key, /)\n",
      " |      Return self[key].\n",
      " |  \n",
      " |  __gt__(self, value, /)\n",
      " |      Return self>value.\n",
      " |  \n",
      " |  __hash__(self, /)\n",
      " |      Return hash(self).\n",
      " |  \n",
      " |  __iter__(self, /)\n",
      " |      Implement iter(self).\n",
      " |  \n",
      " |  __le__(self, value, /)\n",
      " |      Return self<=value.\n",
      " |  \n",
      " |  __len__(self, /)\n",
      " |      Return len(self).\n",
      " |  \n",
      " |  __lt__(self, value, /)\n",
      " |      Return self<value.\n",
      " |  \n",
      " |  __ne__(self, value, /)\n",
      " |      Return self!=value.\n",
      " |  \n",
      " |  __reduce__(...)\n",
      " |      Helper for pickle.\n",
      " |  \n",
      " |  __repr__(self, /)\n",
      " |      Return repr(self).\n",
      " |  \n",
      " |  __reversed__(...)\n",
      " |      Return a reverse iterator.\n",
      " |  \n",
      " |  count(...)\n",
      " |      rangeobject.count(value) -> integer -- return number of occurrences of value\n",
      " |  \n",
      " |  index(...)\n",
      " |      rangeobject.index(value) -> integer -- return index of value.\n",
      " |      Raise ValueError if the value is not present.\n",
      " |  \n",
      " |  ----------------------------------------------------------------------\n",
      " |  Static methods defined here:\n",
      " |  \n",
      " |  __new__(*args, **kwargs) from builtins.type\n",
      " |      Create and return a new object.  See help(type) for accurate signature.\n",
      " |  \n",
      " |  ----------------------------------------------------------------------\n",
      " |  Data descriptors defined here:\n",
      " |  \n",
      " |  start\n",
      " |  \n",
      " |  step\n",
      " |  \n",
      " |  stop\n",
      "\n"
     ]
    }
   ],
   "source": [
    "help(range)"
   ]
  },
  {
   "cell_type": "code",
   "execution_count": 11,
   "metadata": {},
   "outputs": [
    {
     "name": "stdout",
     "output_type": "stream",
     "text": [
      "[0, 1, 2, 3, 4]\n"
     ]
    }
   ],
   "source": [
    "print(list(range(5)))"
   ]
  },
  {
   "cell_type": "code",
   "execution_count": 13,
   "metadata": {},
   "outputs": [
    {
     "name": "stdout",
     "output_type": "stream",
     "text": [
      "Hello Hello Hello Hello Hello "
     ]
    }
   ],
   "source": [
    "for i in range(5):\n",
    "    print(\"Hello\", end=\" \")"
   ]
  },
  {
   "cell_type": "code",
   "execution_count": 14,
   "metadata": {},
   "outputs": [
    {
     "name": "stdout",
     "output_type": "stream",
     "text": [
      "1 2 3 4 5 "
     ]
    }
   ],
   "source": [
    "for i in range(1, 6):\n",
    "    print(i, end=\" \")"
   ]
  },
  {
   "cell_type": "code",
   "execution_count": 16,
   "metadata": {},
   "outputs": [
    {
     "name": "stdout",
     "output_type": "stream",
     "text": [
      "1 4 7 10 "
     ]
    }
   ],
   "source": [
    "for i in range(1, 11, 3):\n",
    "    print(i, end=\" \")"
   ]
  },
  {
   "cell_type": "code",
   "execution_count": 17,
   "metadata": {},
   "outputs": [
    {
     "name": "stdout",
     "output_type": "stream",
     "text": [
      "10 9 8 7 6 5 4 3 2 1 "
     ]
    }
   ],
   "source": [
    "for i in range(10, 0, -1):\n",
    "    print(i, end=\" \")"
   ]
  },
  {
   "cell_type": "markdown",
   "metadata": {},
   "source": [
    "### Nested For Loops - Introduction"
   ]
  },
  {
   "cell_type": "code",
   "execution_count": 18,
   "metadata": {},
   "outputs": [
    {
     "name": "stdout",
     "output_type": "stream",
     "text": [
      "0 1 "
     ]
    }
   ],
   "source": [
    "for i in range(2):\n",
    "    print(i, end=\" \")"
   ]
  },
  {
   "cell_type": "code",
   "execution_count": 19,
   "metadata": {},
   "outputs": [
    {
     "name": "stdout",
     "output_type": "stream",
     "text": [
      "0 1 2 3 4 "
     ]
    }
   ],
   "source": [
    "for i in range(5):\n",
    "    print(i, end=\" \")"
   ]
  },
  {
   "cell_type": "code",
   "execution_count": 21,
   "metadata": {},
   "outputs": [
    {
     "name": "stdout",
     "output_type": "stream",
     "text": [
      "0 0 0 0 0 1 1 1 1 1 "
     ]
    }
   ],
   "source": [
    "for i in range(2):\n",
    "    for j in range(5):\n",
    "        print(i, end=\" \")\n"
   ]
  },
  {
   "cell_type": "code",
   "execution_count": 22,
   "metadata": {},
   "outputs": [
    {
     "name": "stdout",
     "output_type": "stream",
     "text": [
      "[0, 0]\n",
      "[0, 1]\n",
      "[0, 2]\n",
      "[0, 3]\n",
      "[0, 4]\n",
      "[1, 0]\n",
      "[1, 1]\n",
      "[1, 2]\n",
      "[1, 3]\n",
      "[1, 4]\n"
     ]
    }
   ],
   "source": [
    "for i in range(2):\n",
    "    for j in range(5):\n",
    "        print([i, j])"
   ]
  },
  {
   "cell_type": "code",
   "execution_count": 23,
   "metadata": {},
   "outputs": [
    {
     "name": "stdout",
     "output_type": "stream",
     "text": [
      "['Data Analysis', 'Favour']\n",
      "['Data Analysis', 'Divine']\n",
      "['Data Analysis', 'Ray']\n",
      "['Data Analysis', 'OBJ']\n",
      "['Data Analysis', 'Jima']\n",
      "['Web Development', 'Favour']\n",
      "['Web Development', 'Divine']\n",
      "['Web Development', 'Ray']\n",
      "['Web Development', 'OBJ']\n",
      "['Web Development', 'Jima']\n"
     ]
    }
   ],
   "source": [
    "courses = ['Data Analysis', 'Web Development']\n",
    "students= [\"Favour\", \"Divine\", \"Ray\", \"OBJ\", \"Jima\"]\n",
    "\n",
    "for i in courses:\n",
    "    for j in students:\n",
    "        print([i, j])"
   ]
  },
  {
   "cell_type": "code",
   "execution_count": 25,
   "metadata": {},
   "outputs": [
    {
     "name": "stdout",
     "output_type": "stream",
     "text": [
      "Paul takes 2 courses\n",
      "Favour takes 4 courses\n",
      "Rae takes 4 courses\n",
      "Joel takes 2 courses\n",
      "Pius takes 1 course\n"
     ]
    }
   ],
   "source": [
    "students = [\n",
    "    (\"Paul\", [\"Data Science\", \"Networking\"]),\n",
    "    (\"Favour\", [\"Data Analysis\", \"Python\", \"Web Dev\", \"Networking\"]),\n",
    "    (\"Rae\", [\"Data Science\", \"Python\", \"Web Dev\", \"Graphics\"]),\n",
    "    (\"Joel\", [\"Data Analysis\", \"Web Dev\"]),\n",
    "    (\"Pius\", [\"Data Analysis\"])\n",
    "]\n",
    "\n",
    "for name, subjects in students:\n",
    "    if len(subjects) == 1:\n",
    "        print(f\"{name} takes {len(subjects)} course\")\n",
    "    else:\n",
    "        print(f\"{name} takes {len(subjects)} courses\")"
   ]
  },
  {
   "cell_type": "code",
   "execution_count": 26,
   "metadata": {},
   "outputs": [
    {
     "name": "stdout",
     "output_type": "stream",
     "text": [
      "There are 3 students taking Data Analysis \n"
     ]
    }
   ],
   "source": [
    "count = 0\n",
    "for name, subjects in students:\n",
    "    for subject in subjects:\n",
    "        if subject == \"Data Analysis\":\n",
    "            count += 1\n",
    "\n",
    "print(f\"There are {count} students taking Data Analysis \")"
   ]
  },
  {
   "cell_type": "markdown",
   "metadata": {},
   "source": [
    "### Triple Nested For Loops"
   ]
  },
  {
   "cell_type": "code",
   "execution_count": 27,
   "metadata": {},
   "outputs": [],
   "source": [
    "countries = [\"Nepal\", \"Botswana\", \"Belarus\", \"Peru\"]\n",
    "currency = [1000, 100, 1000, 1000]\n",
    "rate_to_dollar = [0.0081, 0.082, 0.30, 0.27, ]"
   ]
  },
  {
   "cell_type": "code",
   "execution_count": 29,
   "metadata": {
    "collapsed": true
   },
   "outputs": [
    {
     "name": "stdout",
     "output_type": "stream",
     "text": [
      "['Wrist Watch', 'Nepal', 1]\n",
      "['Wrist Watch', 'Nepal', 3]\n",
      "['Wrist Watch', 'Nepal', 12]\n",
      "['Wrist Watch', 'Botswana', 1]\n",
      "['Wrist Watch', 'Botswana', 3]\n",
      "['Wrist Watch', 'Botswana', 12]\n",
      "['Wrist Watch', 'Belarus', 1]\n",
      "['Wrist Watch', 'Belarus', 3]\n",
      "['Wrist Watch', 'Belarus', 12]\n",
      "['Wrist Watch', 'Peru', 1]\n",
      "['Wrist Watch', 'Peru', 3]\n",
      "['Wrist Watch', 'Peru', 12]\n",
      "['Perfumes', 'Nepal', 1]\n",
      "['Perfumes', 'Nepal', 3]\n",
      "['Perfumes', 'Nepal', 12]\n",
      "['Perfumes', 'Botswana', 1]\n",
      "['Perfumes', 'Botswana', 3]\n",
      "['Perfumes', 'Botswana', 12]\n",
      "['Perfumes', 'Belarus', 1]\n",
      "['Perfumes', 'Belarus', 3]\n",
      "['Perfumes', 'Belarus', 12]\n",
      "['Perfumes', 'Peru', 1]\n",
      "['Perfumes', 'Peru', 3]\n",
      "['Perfumes', 'Peru', 12]\n"
     ]
    }
   ],
   "source": [
    "products = [\"Wrist Watch\", \"Perfumes\"]\n",
    "time_horizon = (1, 3, 12)\n",
    "for product in products:\n",
    "    for country in countries:\n",
    "        for time in time_horizon:\n",
    "            print([product, country, time])"
   ]
  },
  {
   "cell_type": "code",
   "execution_count": 33,
   "metadata": {
    "collapsed": true
   },
   "outputs": [
    {
     "name": "stdout",
     "output_type": "stream",
     "text": [
      "['Wrist Watch', 8.1]\n",
      "['Wrist Watch', 82.0]\n",
      "['Wrist Watch', 300.0]\n",
      "['Wrist Watch', 270.0]\n",
      "['Wrist Watch', 0.8099999999999999]\n",
      "['Wrist Watch', 8.200000000000001]\n",
      "['Wrist Watch', 30.0]\n",
      "['Wrist Watch', 27.0]\n",
      "['Wrist Watch', 8.1]\n",
      "['Wrist Watch', 82.0]\n",
      "['Wrist Watch', 300.0]\n",
      "['Wrist Watch', 270.0]\n",
      "['Wrist Watch', 8.1]\n",
      "['Wrist Watch', 82.0]\n",
      "['Wrist Watch', 300.0]\n",
      "['Wrist Watch', 270.0]\n",
      "['Perfumes', 8.1]\n",
      "['Perfumes', 82.0]\n",
      "['Perfumes', 300.0]\n",
      "['Perfumes', 270.0]\n",
      "['Perfumes', 0.8099999999999999]\n",
      "['Perfumes', 8.200000000000001]\n",
      "['Perfumes', 30.0]\n",
      "['Perfumes', 27.0]\n",
      "['Perfumes', 8.1]\n",
      "['Perfumes', 82.0]\n",
      "['Perfumes', 300.0]\n",
      "['Perfumes', 270.0]\n",
      "['Perfumes', 8.1]\n",
      "['Perfumes', 82.0]\n",
      "['Perfumes', 300.0]\n",
      "['Perfumes', 270.0]\n"
     ]
    }
   ],
   "source": [
    "for product in products:\n",
    "    for curr in currency:\n",
    "        for rate in rate_to_dollar:\n",
    "            print([product, curr*rate])"
   ]
  },
  {
   "cell_type": "code",
   "execution_count": 35,
   "metadata": {
    "collapsed": true
   },
   "outputs": [
    {
     "name": "stdout",
     "output_type": "stream",
     "text": [
      "Expected sales for a period of 1 month(s) is 10000 for Wrist Watch\n",
      "Expected sales for a period of 3 month(s) is 30000 for Wrist Watch\n",
      "Expected sales for a period of 12 month(s) is 120000 for Wrist Watch\n",
      "Expected sales for a period of 1 month(s) is 11000 for Wrist Watch\n",
      "Expected sales for a period of 3 month(s) is 33000 for Wrist Watch\n",
      "Expected sales for a period of 12 month(s) is 132000 for Wrist Watch\n",
      "Expected sales for a period of 1 month(s) is 12000 for Wrist Watch\n",
      "Expected sales for a period of 3 month(s) is 36000 for Wrist Watch\n",
      "Expected sales for a period of 12 month(s) is 144000 for Wrist Watch\n",
      "Expected sales for a period of 1 month(s) is 13000 for Wrist Watch\n",
      "Expected sales for a period of 3 month(s) is 39000 for Wrist Watch\n",
      "Expected sales for a period of 12 month(s) is 156000 for Wrist Watch\n",
      "Expected sales for a period of 1 month(s) is 14000 for Wrist Watch\n",
      "Expected sales for a period of 3 month(s) is 42000 for Wrist Watch\n",
      "Expected sales for a period of 12 month(s) is 168000 for Wrist Watch\n",
      "Expected sales for a period of 1 month(s) is 10000 for Perfumes\n",
      "Expected sales for a period of 3 month(s) is 30000 for Perfumes\n",
      "Expected sales for a period of 12 month(s) is 120000 for Perfumes\n",
      "Expected sales for a period of 1 month(s) is 11000 for Perfumes\n",
      "Expected sales for a period of 3 month(s) is 33000 for Perfumes\n",
      "Expected sales for a period of 12 month(s) is 132000 for Perfumes\n",
      "Expected sales for a period of 1 month(s) is 12000 for Perfumes\n",
      "Expected sales for a period of 3 month(s) is 36000 for Perfumes\n",
      "Expected sales for a period of 12 month(s) is 144000 for Perfumes\n",
      "Expected sales for a period of 1 month(s) is 13000 for Perfumes\n",
      "Expected sales for a period of 3 month(s) is 39000 for Perfumes\n",
      "Expected sales for a period of 12 month(s) is 156000 for Perfumes\n",
      "Expected sales for a period of 1 month(s) is 14000 for Perfumes\n",
      "Expected sales for a period of 3 month(s) is 42000 for Perfumes\n",
      "Expected sales for a period of 12 month(s) is 168000 for Perfumes\n"
     ]
    }
   ],
   "source": [
    "exp_sales = [10000, 11000, 12000, 13000, 14000]\n",
    "time_horizon = [1, 3, 12]\n",
    "\n",
    "for prod in products:\n",
    "    for sales in exp_sales:\n",
    "        for t_horizon in time_horizon:\n",
    "            print(f'Expected sales for a period of {t_horizon} month(s) \\\n",
    "            is {sales * t_horizon} for {prod}')"
   ]
  },
  {
   "cell_type": "markdown",
   "metadata": {},
   "source": [
    "### List comprehension"
   ]
  },
  {
   "cell_type": "code",
   "execution_count": 36,
   "metadata": {},
   "outputs": [
    {
     "name": "stdout",
     "output_type": "stream",
     "text": [
      "['apple', 'watermelon', 'paw paw', 'pineapple', 'orange']\n"
     ]
    }
   ],
   "source": [
    "fruits = [\"apple\", \"watermelon\", \"paw paw\", \"pineapple\", \"plum\", \"orange\"]\n",
    "newlist = []\n",
    "\n",
    "for fruit in fruits:\n",
    "    if \"a\" in fruit:\n",
    "        newlist.append(fruit)\n",
    "        \n",
    "print(newlist)"
   ]
  },
  {
   "cell_type": "code",
   "execution_count": 41,
   "metadata": {},
   "outputs": [
    {
     "data": {
      "text/plain": [
       "['apple', 'paw paw', 'pineapple', 'plum']"
      ]
     },
     "execution_count": 41,
     "metadata": {},
     "output_type": "execute_result"
    }
   ],
   "source": [
    "newlist = [fruit for fruit in fruits if \"p\" in fruit]\n",
    "newlist"
   ]
  },
  {
   "cell_type": "markdown",
   "metadata": {},
   "source": [
    "##### newlist = [expression for item in iterable if condition == True]"
   ]
  },
  {
   "cell_type": "code",
   "execution_count": 42,
   "metadata": {},
   "outputs": [
    {
     "data": {
      "text/plain": [
       "[0, 1, 4, 9, 16, 25, 36, 49, 64, 81]"
      ]
     },
     "execution_count": 42,
     "metadata": {},
     "output_type": "execute_result"
    }
   ],
   "source": [
    "S = [x**2 for x in range(10)]\n",
    "S"
   ]
  },
  {
   "cell_type": "code",
   "execution_count": 43,
   "metadata": {},
   "outputs": [
    {
     "data": {
      "text/plain": [
       "[0, 4, 16, 36, 64]"
      ]
     },
     "execution_count": 43,
     "metadata": {},
     "output_type": "execute_result"
    }
   ],
   "source": [
    "M = [x for x in S if x % 2 == 0]\n",
    "M"
   ]
  },
  {
   "cell_type": "code",
   "execution_count": 60,
   "metadata": {},
   "outputs": [
    {
     "name": "stdout",
     "output_type": "stream",
     "text": [
      "9.147406964000766\n"
     ]
    }
   ],
   "source": [
    "import timeit\n",
    "print(timeit.timeit('[n**2 for n in range(10) if n%2==0]', number=1000000))"
   ]
  },
  {
   "cell_type": "code",
   "execution_count": 52,
   "metadata": {
    "collapsed": true
   },
   "outputs": [
    {
     "name": "stdout",
     "output_type": "stream",
     "text": [
      "Help on module timeit:\n",
      "\n",
      "NAME\n",
      "    timeit - Tool for measuring execution time of small code snippets.\n",
      "\n",
      "DESCRIPTION\n",
      "    This module avoids a number of common traps for measuring execution\n",
      "    times.  See also Tim Peters' introduction to the Algorithms chapter in\n",
      "    the Python Cookbook, published by O'Reilly.\n",
      "    \n",
      "    Library usage: see the Timer class.\n",
      "    \n",
      "    Command line usage:\n",
      "        python timeit.py [-n N] [-r N] [-s S] [-p] [-h] [--] [statement]\n",
      "    \n",
      "    Options:\n",
      "      -n/--number N: how many times to execute 'statement' (default: see below)\n",
      "      -r/--repeat N: how many times to repeat the timer (default 5)\n",
      "      -s/--setup S: statement to be executed once initially (default 'pass').\n",
      "                    Execution time of this setup statement is NOT timed.\n",
      "      -p/--process: use time.process_time() (default is time.perf_counter())\n",
      "      -v/--verbose: print raw timing results; repeat for more digits precision\n",
      "      -u/--unit: set the output time unit (nsec, usec, msec, or sec)\n",
      "      -h/--help: print this usage message and exit\n",
      "      --: separate options from statement, use when statement starts with -\n",
      "      statement: statement to be timed (default 'pass')\n",
      "    \n",
      "    A multi-line statement may be given by specifying each line as a\n",
      "    separate argument; indented lines are possible by enclosing an\n",
      "    argument in quotes and using leading spaces.  Multiple -s options are\n",
      "    treated similarly.\n",
      "    \n",
      "    If -n is not given, a suitable number of loops is calculated by trying\n",
      "    successive powers of 10 until the total time is at least 0.2 seconds.\n",
      "    \n",
      "    Note: there is a certain baseline overhead associated with executing a\n",
      "    pass statement.  It differs between versions.  The code here doesn't try\n",
      "    to hide it, but you should be aware of it.  The baseline overhead can be\n",
      "    measured by invoking the program without arguments.\n",
      "    \n",
      "    Classes:\n",
      "    \n",
      "        Timer\n",
      "    \n",
      "    Functions:\n",
      "    \n",
      "        timeit(string, string) -> float\n",
      "        repeat(string, string) -> list\n",
      "        default_timer() -> float\n",
      "\n",
      "CLASSES\n",
      "    builtins.object\n",
      "        Timer\n",
      "    \n",
      "    class Timer(builtins.object)\n",
      "     |  Timer(stmt='pass', setup='pass', timer=<built-in function perf_counter>, globals=None)\n",
      "     |  \n",
      "     |  Class for timing execution speed of small code snippets.\n",
      "     |  \n",
      "     |  The constructor takes a statement to be timed, an additional\n",
      "     |  statement used for setup, and a timer function.  Both statements\n",
      "     |  default to 'pass'; the timer function is platform-dependent (see\n",
      "     |  module doc string).  If 'globals' is specified, the code will be\n",
      "     |  executed within that namespace (as opposed to inside timeit's\n",
      "     |  namespace).\n",
      "     |  \n",
      "     |  To measure the execution time of the first statement, use the\n",
      "     |  timeit() method.  The repeat() method is a convenience to call\n",
      "     |  timeit() multiple times and return a list of results.\n",
      "     |  \n",
      "     |  The statements may contain newlines, as long as they don't contain\n",
      "     |  multi-line string literals.\n",
      "     |  \n",
      "     |  Methods defined here:\n",
      "     |  \n",
      "     |  __init__(self, stmt='pass', setup='pass', timer=<built-in function perf_counter>, globals=None)\n",
      "     |      Constructor.  See class doc string.\n",
      "     |  \n",
      "     |  autorange(self, callback=None)\n",
      "     |      Return the number of loops and time taken so that total time >= 0.2.\n",
      "     |      \n",
      "     |      Calls the timeit method with increasing numbers from the sequence\n",
      "     |      1, 2, 5, 10, 20, 50, ... until the time taken is at least 0.2\n",
      "     |      second.  Returns (number, time_taken).\n",
      "     |      \n",
      "     |      If *callback* is given and is not None, it will be called after\n",
      "     |      each trial with two arguments: ``callback(number, time_taken)``.\n",
      "     |  \n",
      "     |  print_exc(self, file=None)\n",
      "     |      Helper to print a traceback from the timed code.\n",
      "     |      \n",
      "     |      Typical use:\n",
      "     |      \n",
      "     |          t = Timer(...)       # outside the try/except\n",
      "     |          try:\n",
      "     |              t.timeit(...)    # or t.repeat(...)\n",
      "     |          except:\n",
      "     |              t.print_exc()\n",
      "     |      \n",
      "     |      The advantage over the standard traceback is that source lines\n",
      "     |      in the compiled template will be displayed.\n",
      "     |      \n",
      "     |      The optional file argument directs where the traceback is\n",
      "     |      sent; it defaults to sys.stderr.\n",
      "     |  \n",
      "     |  repeat(self, repeat=5, number=1000000)\n",
      "     |      Call timeit() a few times.\n",
      "     |      \n",
      "     |      This is a convenience function that calls the timeit()\n",
      "     |      repeatedly, returning a list of results.  The first argument\n",
      "     |      specifies how many times to call timeit(), defaulting to 5;\n",
      "     |      the second argument specifies the timer argument, defaulting\n",
      "     |      to one million.\n",
      "     |      \n",
      "     |      Note: it's tempting to calculate mean and standard deviation\n",
      "     |      from the result vector and report these.  However, this is not\n",
      "     |      very useful.  In a typical case, the lowest value gives a\n",
      "     |      lower bound for how fast your machine can run the given code\n",
      "     |      snippet; higher values in the result vector are typically not\n",
      "     |      caused by variability in Python's speed, but by other\n",
      "     |      processes interfering with your timing accuracy.  So the min()\n",
      "     |      of the result is probably the only number you should be\n",
      "     |      interested in.  After that, you should look at the entire\n",
      "     |      vector and apply common sense rather than statistics.\n",
      "     |  \n",
      "     |  timeit(self, number=1000000)\n",
      "     |      Time 'number' executions of the main statement.\n",
      "     |      \n",
      "     |      To be precise, this executes the setup statement once, and\n",
      "     |      then returns the time it takes to execute the main statement\n",
      "     |      a number of times, as a float measured in seconds.  The\n",
      "     |      argument is the number of times through the loop, defaulting\n",
      "     |      to one million.  The main statement, the setup statement and\n",
      "     |      the timer function to be used are passed to the constructor.\n",
      "     |  \n",
      "     |  ----------------------------------------------------------------------\n",
      "     |  Data descriptors defined here:\n",
      "     |  \n",
      "     |  __dict__\n",
      "     |      dictionary for instance variables (if defined)\n",
      "     |  \n",
      "     |  __weakref__\n",
      "     |      list of weak references to the object (if defined)\n",
      "\n",
      "FUNCTIONS\n",
      "    default_timer = perf_counter(...)\n",
      "        perf_counter() -> float\n",
      "        \n",
      "        Performance counter for benchmarking.\n",
      "    \n",
      "    repeat(stmt='pass', setup='pass', timer=<built-in function perf_counter>, repeat=5, number=1000000, globals=None)\n",
      "        Convenience function to create Timer object and call repeat method.\n",
      "    \n",
      "    timeit(stmt='pass', setup='pass', timer=<built-in function perf_counter>, number=1000000, globals=None)\n",
      "        Convenience function to create Timer object and call timeit method.\n",
      "\n",
      "DATA\n",
      "    __all__ = ['Timer', 'timeit', 'repeat', 'default_timer']\n",
      "\n",
      "FILE\n",
      "    c:\\users\\uzoma\\anaconda3\\lib\\timeit.py\n",
      "\n",
      "\n"
     ]
    }
   ],
   "source": [
    "help(timeit)"
   ]
  },
  {
   "cell_type": "code",
   "execution_count": 63,
   "metadata": {},
   "outputs": [
    {
     "name": "stdout",
     "output_type": "stream",
     "text": [
      "10.103957932000412\n"
     ]
    }
   ],
   "source": [
    "new_list = []\n",
    "def power_two(numbers):\n",
    "    for n in range(numbers):\n",
    "        if n%2==0:\n",
    "            new_list.append(n**2)\n",
    "    return new_list\n",
    "\n",
    "print(timeit.timeit('power_two(10)', globals=globals(), number=1000000))"
   ]
  },
  {
   "cell_type": "markdown",
   "metadata": {},
   "source": [
    "### Lambda Function"
   ]
  },
  {
   "cell_type": "markdown",
   "metadata": {},
   "source": [
    "#### Syntax for a lambda function\n",
    "#### `lambda arguments: expression`"
   ]
  },
  {
   "cell_type": "code",
   "execution_count": 23,
   "metadata": {},
   "outputs": [
    {
     "name": "stdout",
     "output_type": "stream",
     "text": [
      "<function <lambda> at 0x000001DA0D7085E8>\n"
     ]
    }
   ],
   "source": [
    "print(lambda x: print(x))"
   ]
  },
  {
   "cell_type": "code",
   "execution_count": 4,
   "metadata": {},
   "outputs": [
    {
     "name": "stdout",
     "output_type": "stream",
     "text": [
      "Welcome to class\n"
     ]
    }
   ],
   "source": [
    "printx = lambda x: print(x)\n",
    "printx(\"Welcome to class\")"
   ]
  },
  {
   "cell_type": "code",
   "execution_count": 5,
   "metadata": {},
   "outputs": [
    {
     "data": {
      "text/plain": [
       "1242"
      ]
     },
     "execution_count": 5,
     "metadata": {},
     "output_type": "execute_result"
    }
   ],
   "source": [
    "multiply = lambda x, y: x * y\n",
    "multiply(23, 54)"
   ]
  },
  {
   "cell_type": "code",
   "execution_count": 6,
   "metadata": {},
   "outputs": [
    {
     "data": {
      "text/plain": [
       "90"
      ]
     },
     "execution_count": 6,
     "metadata": {},
     "output_type": "execute_result"
    }
   ],
   "source": [
    "doubler = lambda x: x * 2\n",
    "doubler(45)"
   ]
  },
  {
   "cell_type": "markdown",
   "metadata": {},
   "source": [
    "#### Using lambda in list comprehension"
   ]
  },
  {
   "cell_type": "code",
   "execution_count": 10,
   "metadata": {
    "collapsed": true
   },
   "outputs": [
    {
     "data": {
      "text/plain": [
       "[<function __main__.<listcomp>.<lambda>(x=1)>,\n",
       " <function __main__.<listcomp>.<lambda>(x=2)>,\n",
       " <function __main__.<listcomp>.<lambda>(x=3)>,\n",
       " <function __main__.<listcomp>.<lambda>(x=4)>,\n",
       " <function __main__.<listcomp>.<lambda>(x=5)>,\n",
       " <function __main__.<listcomp>.<lambda>(x=6)>,\n",
       " <function __main__.<listcomp>.<lambda>(x=7)>,\n",
       " <function __main__.<listcomp>.<lambda>(x=8)>,\n",
       " <function __main__.<listcomp>.<lambda>(x=9)>,\n",
       " <function __main__.<listcomp>.<lambda>(x=10)>]"
      ]
     },
     "execution_count": 10,
     "metadata": {},
     "output_type": "execute_result"
    }
   ],
   "source": [
    "tables = [lambda x=x: x*10 for x in range(1, 11)]\n",
    "tables"
   ]
  },
  {
   "cell_type": "code",
   "execution_count": 13,
   "metadata": {
    "collapsed": true
   },
   "outputs": [
    {
     "name": "stdout",
     "output_type": "stream",
     "text": [
      "10\n",
      "20\n",
      "30\n",
      "40\n",
      "50\n",
      "60\n",
      "70\n",
      "80\n",
      "90\n",
      "100\n"
     ]
    }
   ],
   "source": [
    "for table in tables:\n",
    "    print(table())"
   ]
  },
  {
   "cell_type": "markdown",
   "metadata": {},
   "source": [
    "#### List comprehension in a lambda function"
   ]
  },
  {
   "cell_type": "code",
   "execution_count": 21,
   "metadata": {
    "collapsed": true
   },
   "outputs": [
    {
     "data": {
      "text/plain": [
       "[0, 1, 16, 81, 256, 625, 1296, 2401, 4096, 6561]"
      ]
     },
     "execution_count": 21,
     "metadata": {},
     "output_type": "execute_result"
    }
   ],
   "source": [
    "new_list3 = lambda y : [x**y for x in range(10)]\n",
    "new_list3(4)"
   ]
  },
  {
   "cell_type": "markdown",
   "metadata": {},
   "source": [
    "#### Using lambda and filter()"
   ]
  },
  {
   "cell_type": "code",
   "execution_count": 24,
   "metadata": {},
   "outputs": [
    {
     "data": {
      "text/plain": [
       "[23, 45, 97, 3, 5, 43]"
      ]
     },
     "execution_count": 24,
     "metadata": {},
     "output_type": "execute_result"
    }
   ],
   "source": [
    "numbers = [23, 56, 28,45, 97, 3, 5, 8, 6, 43]\n",
    "new_list = list(filter(lambda x: x % 2 == 1, numbers))\n",
    "new_list"
   ]
  },
  {
   "cell_type": "code",
   "execution_count": 25,
   "metadata": {},
   "outputs": [
    {
     "data": {
      "text/plain": [
       "[529, 3136, 784, 2025, 9409, 9, 25, 64, 36, 1849]"
      ]
     },
     "execution_count": 25,
     "metadata": {},
     "output_type": "execute_result"
    }
   ],
   "source": [
    "new_list2 = list(map(lambda x : x**2, numbers))\n",
    "new_list2"
   ]
  },
  {
   "cell_type": "code",
   "execution_count": 28,
   "metadata": {},
   "outputs": [
    {
     "name": "stdout",
     "output_type": "stream",
     "text": [
      "30\n",
      "45\n"
     ]
    }
   ],
   "source": [
    "def myfunc(n):\n",
    "    return lambda a : a * n\n",
    "\n",
    "mydoubler = myfunc(2)\n",
    "print(mydoubler(15))\n",
    "mytripler = myfunc(3)\n",
    "print(mytripler(15))"
   ]
  },
  {
   "cell_type": "code",
   "execution_count": null,
   "metadata": {},
   "outputs": [],
   "source": []
  }
 ],
 "metadata": {
  "kernelspec": {
   "display_name": "Python 3 (ipykernel)",
   "language": "python",
   "name": "python3"
  },
  "language_info": {
   "codemirror_mode": {
    "name": "ipython",
    "version": 3
   },
   "file_extension": ".py",
   "mimetype": "text/x-python",
   "name": "python",
   "nbconvert_exporter": "python",
   "pygments_lexer": "ipython3",
   "version": "3.9.12"
  }
 },
 "nbformat": 4,
 "nbformat_minor": 2
}
