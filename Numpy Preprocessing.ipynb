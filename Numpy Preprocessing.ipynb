{
 "cells": [
  {
   "cell_type": "markdown",
   "metadata": {},
   "source": [
    "## Checking for missing values in ndarrays"
   ]
  },
  {
   "cell_type": "code",
   "execution_count": 1,
   "metadata": {},
   "outputs": [],
   "source": [
    "import numpy as np"
   ]
  },
  {
   "cell_type": "code",
   "execution_count": 3,
   "metadata": {},
   "outputs": [
    {
     "data": {
      "text/plain": [
       "array([[ 2000.,    40.,   365.,  3121.,  4241., 13621.],\n",
       "       [ 2000.,    40.,   365.,  3061.,  4171., 15041.],\n",
       "       [ 1000.,    40.,   365.,  2160.,  3280., 15340.],\n",
       "       ...,\n",
       "       [ 2000.,    40.,   365.,  4201.,  5001., 16600.],\n",
       "       [ 1000.,    40.,   365.,  2080.,  3320., 15600.],\n",
       "       [ 2000.,    40.,   365.,  4601.,  4601., 16600.]])"
      ]
     },
     "execution_count": 3,
     "metadata": {},
     "output_type": "execute_result"
    }
   ],
   "source": [
    "lending_company = np.loadtxt(\"Lending-company-Numeric.csv\",\n",
    "                            delimiter=',')\n",
    "lending_company"
   ]
  },
  {
   "cell_type": "code",
   "execution_count": 4,
   "metadata": {},
   "outputs": [
    {
     "data": {
      "text/plain": [
       "array([[False, False, False, False, False, False],\n",
       "       [False, False, False, False, False, False],\n",
       "       [False, False, False, False, False, False],\n",
       "       ...,\n",
       "       [False, False, False, False, False, False],\n",
       "       [False, False, False, False, False, False],\n",
       "       [False, False, False, False, False, False]])"
      ]
     },
     "execution_count": 4,
     "metadata": {},
     "output_type": "execute_result"
    }
   ],
   "source": [
    "# to check for missing values\n",
    "np.isnan(lending_company)"
   ]
  },
  {
   "cell_type": "code",
   "execution_count": 5,
   "metadata": {},
   "outputs": [],
   "source": [
    "lending_company_nan = np.genfromtxt(\"Lending-company-Numeric-NAN.csv\",\n",
    "                                   delimiter = ';')"
   ]
  },
  {
   "cell_type": "code",
   "execution_count": 6,
   "metadata": {},
   "outputs": [
    {
     "data": {
      "text/plain": [
       "array([[ 2000.,    40.,   365.,  3121.,  4241., 13621.],\n",
       "       [ 2000.,    40.,   365.,  3061.,  4171., 15041.],\n",
       "       [ 1000.,    40.,   365.,  2160.,  3280., 15340.],\n",
       "       ...,\n",
       "       [   nan,    40.,   365.,  4201.,  5001., 16600.],\n",
       "       [ 1000.,    40.,   365.,  2080.,  3320., 15600.],\n",
       "       [ 2000.,    40.,   365.,  4601.,  4601., 16600.]])"
      ]
     },
     "execution_count": 6,
     "metadata": {},
     "output_type": "execute_result"
    }
   ],
   "source": [
    "lending_company_nan"
   ]
  },
  {
   "cell_type": "code",
   "execution_count": 8,
   "metadata": {},
   "outputs": [
    {
     "data": {
      "text/plain": [
       "260"
      ]
     },
     "execution_count": 8,
     "metadata": {},
     "output_type": "execute_result"
    }
   ],
   "source": [
    "# Check for the number of missing values\n",
    "np.isnan(lending_company_nan).sum()"
   ]
  },
  {
   "cell_type": "markdown",
   "metadata": {},
   "source": [
    "## Substituting missing values in ndarrays"
   ]
  },
  {
   "cell_type": "code",
   "execution_count": 9,
   "metadata": {},
   "outputs": [],
   "source": [
    "lending_company_nan_sub = np.genfromtxt(\"Lending-company-Numeric-NAN.csv\",\n",
    "                                   delimiter = ';',\n",
    "                                    filling_values = 0)"
   ]
  },
  {
   "cell_type": "code",
   "execution_count": 16,
   "metadata": {},
   "outputs": [
    {
     "data": {
      "text/plain": [
       "array([[ 2000.,    40.,   365.,  3121.,  4241., 13621.],\n",
       "       [ 2000.,    40.,   365.,  3061.,  4171., 15041.],\n",
       "       [ 1000.,    40.,   365.,  2160.,  3280., 15340.],\n",
       "       ...,\n",
       "       [    0.,    40.,   365.,  4201.,  5001., 16600.],\n",
       "       [ 1000.,    40.,   365.,  2080.,  3320., 15600.],\n",
       "       [ 2000.,    40.,   365.,  4601.,  4601., 16600.]])"
      ]
     },
     "execution_count": 16,
     "metadata": {},
     "output_type": "execute_result"
    }
   ],
   "source": [
    "lending_company_nan_sub"
   ]
  },
  {
   "cell_type": "code",
   "execution_count": 85,
   "metadata": {},
   "outputs": [
    {
     "data": {
      "text/plain": [
       "array([[11., 12., nan, 14.],\n",
       "       [21., nan, nan, 24.],\n",
       "       [31., 32., 33., 34.]])"
      ]
     },
     "execution_count": 85,
     "metadata": {},
     "output_type": "execute_result"
    }
   ],
   "source": [
    "nums_array = np.array([[11, 12,np.nan, 14],[21,np.nan,np.nan,24], [31, 32, 33, 34]])\n",
    "nums_array"
   ]
  },
  {
   "cell_type": "code",
   "execution_count": 82,
   "metadata": {},
   "outputs": [
    {
     "name": "stdout",
     "output_type": "stream",
     "text": [
      "[[11. 12.  0. 14.]\n",
      " [21.  0.  0. 24.]\n",
      " [31. 32. 33. 34.]]\n"
     ]
    }
   ],
   "source": [
    "print(np.nan_to_num(nums_array))"
   ]
  },
  {
   "cell_type": "code",
   "execution_count": 21,
   "metadata": {},
   "outputs": [
    {
     "name": "stdout",
     "output_type": "stream",
     "text": [
      "[[11. 12.  0. 14.]\n",
      " [21.  0.  0. 24.]\n",
      " [31. 32. 33. 34.]]\n"
     ]
    }
   ],
   "source": [
    "print(np.nan_to_num(nums_array, nan=-1))"
   ]
  },
  {
   "cell_type": "code",
   "execution_count": 22,
   "metadata": {},
   "outputs": [
    {
     "data": {
      "text/plain": [
       "'1.16.5'"
      ]
     },
     "execution_count": 22,
     "metadata": {},
     "output_type": "execute_result"
    }
   ],
   "source": [
    "np.__version__"
   ]
  },
  {
   "cell_type": "code",
   "execution_count": 25,
   "metadata": {},
   "outputs": [
    {
     "data": {
      "text/plain": [
       "23.555555555555557"
      ]
     },
     "execution_count": 25,
     "metadata": {},
     "output_type": "execute_result"
    }
   ],
   "source": [
    "np.nanmean(nums_array)"
   ]
  },
  {
   "cell_type": "code",
   "execution_count": null,
   "metadata": {},
   "outputs": [],
   "source": [
    "np.nan_to_num(nums_array, nan=np.nanmean(nums_array))"
   ]
  },
  {
   "cell_type": "code",
   "execution_count": 26,
   "metadata": {},
   "outputs": [
    {
     "data": {
      "text/plain": [
       "array([[11., 12., nan, 14.],\n",
       "       [21., nan, nan, 24.],\n",
       "       [31., 32., 33., 34.]])"
      ]
     },
     "execution_count": 26,
     "metadata": {},
     "output_type": "execute_result"
    }
   ],
   "source": [
    "nums_array"
   ]
  },
  {
   "cell_type": "code",
   "execution_count": 86,
   "metadata": {},
   "outputs": [
    {
     "data": {
      "text/plain": [
       "array([[11., 12.,  0., 14.],\n",
       "       [21.,  0.,  0., 24.],\n",
       "       [31., 32., 33., 34.]])"
      ]
     },
     "execution_count": 86,
     "metadata": {},
     "output_type": "execute_result"
    }
   ],
   "source": [
    "np.nan_to_num(nums_array, copy=False)"
   ]
  },
  {
   "cell_type": "code",
   "execution_count": 28,
   "metadata": {},
   "outputs": [
    {
     "data": {
      "text/plain": [
       "array([[11., 12.,  0., 14.],\n",
       "       [21.,  0.,  0., 24.],\n",
       "       [31., 32., 33., 34.]])"
      ]
     },
     "execution_count": 28,
     "metadata": {},
     "output_type": "execute_result"
    }
   ],
   "source": [
    "nums_array"
   ]
  },
  {
   "cell_type": "markdown",
   "metadata": {},
   "source": [
    "### Reshaping ndarrays"
   ]
  },
  {
   "cell_type": "code",
   "execution_count": 29,
   "metadata": {},
   "outputs": [
    {
     "data": {
      "text/plain": [
       "array([[ 2000.,    40.,   365.,  3121.,  4241., 13621.],\n",
       "       [ 2000.,    40.,   365.,  3061.,  4171., 15041.],\n",
       "       [ 1000.,    40.,   365.,  2160.,  3280., 15340.],\n",
       "       ...,\n",
       "       [ 2000.,    40.,   365.,  4201.,  5001., 16600.],\n",
       "       [ 1000.,    40.,   365.,  2080.,  3320., 15600.],\n",
       "       [ 2000.,    40.,   365.,  4601.,  4601., 16600.]])"
      ]
     },
     "execution_count": 29,
     "metadata": {},
     "output_type": "execute_result"
    }
   ],
   "source": [
    "lending_company"
   ]
  },
  {
   "cell_type": "code",
   "execution_count": 30,
   "metadata": {},
   "outputs": [
    {
     "data": {
      "text/plain": [
       "(1043, 6)"
      ]
     },
     "execution_count": 30,
     "metadata": {},
     "output_type": "execute_result"
    }
   ],
   "source": [
    "lending_company.shape"
   ]
  },
  {
   "cell_type": "code",
   "execution_count": 31,
   "metadata": {},
   "outputs": [
    {
     "data": {
      "text/plain": [
       "array([[ 2000.,    40.,   365., ...,   365.,  1581.,  3041.],\n",
       "       [12277.,  2000.,    40., ...,    50.,   365.,  5350.],\n",
       "       [ 6850., 15150.,  1000., ...,  2000.,    40.,   365.],\n",
       "       [ 3101.,  4351., 16600., ..., 16600.,  2000.,    40.],\n",
       "       [  365.,  3441.,  4661., ...,  8450., 22250.,  2000.],\n",
       "       [   40.,   365.,  3701., ...,  4601.,  4601., 16600.]])"
      ]
     },
     "execution_count": 31,
     "metadata": {},
     "output_type": "execute_result"
    }
   ],
   "source": [
    "np.reshape(lending_company, (6, 1043))"
   ]
  },
  {
   "cell_type": "code",
   "execution_count": 32,
   "metadata": {},
   "outputs": [
    {
     "data": {
      "text/plain": [
       "array([[ 2000.,    40.],\n",
       "       [  365.,  3121.],\n",
       "       [ 4241., 13621.],\n",
       "       ...,\n",
       "       [ 2000.,    40.],\n",
       "       [  365.,  4601.],\n",
       "       [ 4601., 16600.]])"
      ]
     },
     "execution_count": 32,
     "metadata": {},
     "output_type": "execute_result"
    }
   ],
   "source": [
    "np.reshape(lending_company, (3129, 2))"
   ]
  },
  {
   "cell_type": "code",
   "execution_count": 33,
   "metadata": {},
   "outputs": [
    {
     "data": {
      "text/plain": [
       "array([[ 2000.,    40.,   365., ...,  4241., 13621.,  2000.],\n",
       "       [   40.,   365.,  3061., ..., 15041.,  1000.,    40.],\n",
       "       [  365.,  2160.,  3280., ...,  2000.,    40.,   365.],\n",
       "       ...,\n",
       "       [ 4240.,  5440., 16600., ...,    40.,   365.,  4201.],\n",
       "       [ 5001., 16600.,  1000., ...,   365.,  2080.,  3320.],\n",
       "       [15600.,  2000.,    40., ...,  4601.,  4601., 16600.]])"
      ]
     },
     "execution_count": 33,
     "metadata": {},
     "output_type": "execute_result"
    }
   ],
   "source": [
    "np.reshape(lending_company, (894, 7))"
   ]
  },
  {
   "cell_type": "code",
   "execution_count": 35,
   "metadata": {},
   "outputs": [
    {
     "data": {
      "text/plain": [
       "array([[ 2000.,    40.,   365., ...,   300.,   850.,  6750.],\n",
       "       [ 4000.,    50.,   365., ..., -2150.,  -750.,  3600.],\n",
       "       [ 2000.,    40.,   365., ...,  3401.,  4101., 14041.],\n",
       "       ...,\n",
       "       [ 1000.,    50.,   365., ...,  7901.,  7901., 16600.],\n",
       "       [ 1000.,    40.,   365., ...,  3750.,  5250., 20250.],\n",
       "       [ 4000.,    50.,   365., ...,  4601.,  4601., 16600.]])"
      ]
     },
     "execution_count": 35,
     "metadata": {},
     "output_type": "execute_result"
    }
   ],
   "source": [
    "lending_company.reshape(7, 894)"
   ]
  },
  {
   "cell_type": "code",
   "execution_count": 36,
   "metadata": {},
   "outputs": [
    {
     "data": {
      "text/plain": [
       "array([[ 2000.,  2000.,  1000., ...,  2000.,  1000.,  2000.],\n",
       "       [   40.,    40.,    40., ...,    40.,    40.,    40.],\n",
       "       [  365.,   365.,   365., ...,   365.,   365.,   365.],\n",
       "       [ 3121.,  3061.,  2160., ...,  4201.,  2080.,  4601.],\n",
       "       [ 4241.,  4171.,  3280., ...,  5001.,  3320.,  4601.],\n",
       "       [13621., 15041., 15340., ..., 16600., 15600., 16600.]])"
      ]
     },
     "execution_count": 36,
     "metadata": {},
     "output_type": "execute_result"
    }
   ],
   "source": [
    "lending_company.transpose()"
   ]
  },
  {
   "cell_type": "code",
   "execution_count": 37,
   "metadata": {},
   "outputs": [
    {
     "data": {
      "text/plain": [
       "array([[ 2000.,    40.,   365.,  3121.,  4241., 13621.],\n",
       "       [ 2000.,    40.,   365.,  3061.,  4171., 15041.],\n",
       "       [ 1000.,    40.,   365.,  2160.,  3280., 15340.],\n",
       "       ...,\n",
       "       [ 2000.,    40.,   365.,  4201.,  5001., 16600.],\n",
       "       [ 1000.,    40.,   365.,  2080.,  3320., 15600.],\n",
       "       [ 2000.,    40.,   365.,  4601.,  4601., 16600.]])"
      ]
     },
     "execution_count": 37,
     "metadata": {},
     "output_type": "execute_result"
    }
   ],
   "source": [
    "lending_company"
   ]
  },
  {
   "cell_type": "markdown",
   "metadata": {},
   "source": [
    "### Removing Values"
   ]
  },
  {
   "cell_type": "code",
   "execution_count": 38,
   "metadata": {},
   "outputs": [
    {
     "data": {
      "text/plain": [
       "array([[11., 12.,  0., 14.],\n",
       "       [21.,  0.,  0., 24.],\n",
       "       [31., 32., 33., 34.]])"
      ]
     },
     "execution_count": 38,
     "metadata": {},
     "output_type": "execute_result"
    }
   ],
   "source": [
    "nums_array"
   ]
  },
  {
   "cell_type": "code",
   "execution_count": 42,
   "metadata": {},
   "outputs": [
    {
     "data": {
      "text/plain": [
       "array([11., 12.,  0., 14.,  0., 24., 31., 32., 33., 34.])"
      ]
     },
     "execution_count": 42,
     "metadata": {},
     "output_type": "execute_result"
    }
   ],
   "source": [
    "new_nums = np.delete(nums_array, [4, 6])\n",
    "new_nums"
   ]
  },
  {
   "cell_type": "code",
   "execution_count": 43,
   "metadata": {},
   "outputs": [
    {
     "data": {
      "text/plain": [
       "array([[11., 12.,  0., 14.,  0.],\n",
       "       [24., 31., 32., 33., 34.]])"
      ]
     },
     "execution_count": 43,
     "metadata": {},
     "output_type": "execute_result"
    }
   ],
   "source": [
    "new_nums.reshape(2, 5)"
   ]
  },
  {
   "cell_type": "code",
   "execution_count": 46,
   "metadata": {},
   "outputs": [
    {
     "data": {
      "text/plain": [
       "array([[11.,  0.],\n",
       "       [21.,  0.],\n",
       "       [31., 33.]])"
      ]
     },
     "execution_count": 46,
     "metadata": {},
     "output_type": "execute_result"
    }
   ],
   "source": [
    "col1_del = np.delete(nums_array, [1, 3], axis=1)\n",
    "col1_del"
   ]
  },
  {
   "cell_type": "code",
   "execution_count": 47,
   "metadata": {},
   "outputs": [
    {
     "data": {
      "text/plain": [
       "array([[11., 12.,  0., 14.],\n",
       "       [31., 32., 33., 34.]])"
      ]
     },
     "execution_count": 47,
     "metadata": {},
     "output_type": "execute_result"
    }
   ],
   "source": [
    "row_del = np.delete(nums_array, [1], axis=0)\n",
    "row_del"
   ]
  },
  {
   "cell_type": "code",
   "execution_count": 48,
   "metadata": {},
   "outputs": [
    {
     "data": {
      "text/plain": [
       "array([[11., 12.,  0., 14.],\n",
       "       [21.,  0.,  0., 24.],\n",
       "       [31., 32., 33., 34.]])"
      ]
     },
     "execution_count": 48,
     "metadata": {},
     "output_type": "execute_result"
    }
   ],
   "source": [
    "nums_array"
   ]
  },
  {
   "cell_type": "code",
   "execution_count": 55,
   "metadata": {},
   "outputs": [
    {
     "data": {
      "text/plain": [
       "array([14., 21.,  0.,  0., 24., 31., 32., 33., 34.])"
      ]
     },
     "execution_count": 55,
     "metadata": {},
     "output_type": "execute_result"
    }
   ],
   "source": [
    "clean_array = np.delete(nums_array, np.where(nums_array == 0))\n",
    "clean_array"
   ]
  },
  {
   "cell_type": "code",
   "execution_count": 65,
   "metadata": {},
   "outputs": [
    {
     "data": {
      "text/plain": [
       "array([11., 12.,  0., 14., 21.,  0.,  0., 24., 31., 32., 33., 34.])"
      ]
     },
     "execution_count": 65,
     "metadata": {},
     "output_type": "execute_result"
    }
   ],
   "source": [
    "clean_array = np.delete(nums_array.reshape(1, 12), np.where(nums_array == 23))\n",
    "clean_array"
   ]
  },
  {
   "cell_type": "markdown",
   "metadata": {},
   "source": [
    "### Sorting Data"
   ]
  },
  {
   "cell_type": "code",
   "execution_count": 66,
   "metadata": {},
   "outputs": [
    {
     "data": {
      "text/plain": [
       "array([[ 0., 11., 12., 14.],\n",
       "       [ 0.,  0., 21., 24.],\n",
       "       [31., 32., 33., 34.]])"
      ]
     },
     "execution_count": 66,
     "metadata": {},
     "output_type": "execute_result"
    }
   ],
   "source": [
    "np.sort(nums_array)"
   ]
  },
  {
   "cell_type": "code",
   "execution_count": 67,
   "metadata": {},
   "outputs": [
    {
     "data": {
      "text/plain": [
       "array([[   40.,   365.,  2000.,  3121.,  4241., 13621.],\n",
       "       [   40.,   365.,  2000.,  3061.,  4171., 15041.],\n",
       "       [   40.,   365.,  1000.,  2160.,  3280., 15340.],\n",
       "       ...,\n",
       "       [   40.,   365.,  2000.,  4201.,  5001., 16600.],\n",
       "       [   40.,   365.,  1000.,  2080.,  3320., 15600.],\n",
       "       [   40.,   365.,  2000.,  4601.,  4601., 16600.]])"
      ]
     },
     "execution_count": 67,
     "metadata": {},
     "output_type": "execute_result"
    }
   ],
   "source": [
    "np.sort(lending_company)"
   ]
  },
  {
   "cell_type": "code",
   "execution_count": 69,
   "metadata": {},
   "outputs": [
    {
     "data": {
      "text/plain": [
       "array([[13621.,  4241.,  3121.,  2000.,   365.,    40.],\n",
       "       [15041.,  4171.,  3061.,  2000.,   365.,    40.],\n",
       "       [15340.,  3280.,  2160.,  1000.,   365.,    40.],\n",
       "       ...,\n",
       "       [16600.,  5001.,  4201.,  2000.,   365.,    40.],\n",
       "       [15600.,  3320.,  2080.,  1000.,   365.,    40.],\n",
       "       [16600.,  4601.,  4601.,  2000.,   365.,    40.]])"
      ]
     },
     "execution_count": 69,
     "metadata": {},
     "output_type": "execute_result"
    }
   ],
   "source": [
    "-np.sort(-lending_company)"
   ]
  },
  {
   "cell_type": "code",
   "execution_count": 70,
   "metadata": {},
   "outputs": [],
   "source": [
    "lending_company.sort(axis=1)"
   ]
  },
  {
   "cell_type": "code",
   "execution_count": 71,
   "metadata": {},
   "outputs": [
    {
     "data": {
      "text/plain": [
       "array([[   40.,   365.,  2000.,  3121.,  4241., 13621.],\n",
       "       [   40.,   365.,  2000.,  3061.,  4171., 15041.],\n",
       "       [   40.,   365.,  1000.,  2160.,  3280., 15340.],\n",
       "       ...,\n",
       "       [   40.,   365.,  2000.,  4201.,  5001., 16600.],\n",
       "       [   40.,   365.,  1000.,  2080.,  3320., 15600.],\n",
       "       [   40.,   365.,  2000.,  4601.,  4601., 16600.]])"
      ]
     },
     "execution_count": 71,
     "metadata": {},
     "output_type": "execute_result"
    }
   ],
   "source": [
    "lending_company"
   ]
  },
  {
   "cell_type": "code",
   "execution_count": 72,
   "metadata": {
    "collapsed": true
   },
   "outputs": [
    {
     "data": {
      "text/plain": [
       "array([[-2.8700e+03, -2.8700e+03, -3.5000e+02,  5.0000e+01,  3.6500e+02,\n",
       "         1.0000e+03],\n",
       "       [-2.5500e+03, -2.1000e+03,  5.0000e+01,  1.5000e+02,  3.6500e+02,\n",
       "         1.0000e+03],\n",
       "       [-2.4500e+03, -2.0000e+03,  5.0000e+01,  3.6500e+02,  1.0000e+03,\n",
       "         1.1000e+03],\n",
       "       ...,\n",
       "       [ 1.2500e+02,  3.6500e+02,  9.0000e+03,  1.6751e+04,  1.8751e+04,\n",
       "         5.4625e+04],\n",
       "       [ 1.6500e+02,  3.6500e+02,  9.0000e+03,  1.7650e+04,  2.0001e+04,\n",
       "         5.4625e+04],\n",
       "       [ 1.6500e+02,  3.6500e+02,  9.0000e+03,  1.9001e+04,  2.2001e+04,\n",
       "         6.4001e+04]])"
      ]
     },
     "execution_count": 72,
     "metadata": {},
     "output_type": "execute_result"
    }
   ],
   "source": [
    "lending_company.sort(axis=0)\n",
    "lending_company"
   ]
  },
  {
   "cell_type": "code",
   "execution_count": 73,
   "metadata": {},
   "outputs": [],
   "source": [
    "np.set_printoptions(suppress=True)"
   ]
  },
  {
   "cell_type": "code",
   "execution_count": 75,
   "metadata": {
    "collapsed": true
   },
   "outputs": [
    {
     "data": {
      "text/plain": [
       "array([[-2870., -2870.,  -350.,    50.,   365.,  1000.],\n",
       "       [-2550., -2100.,    50.,   150.,   365.,  1000.],\n",
       "       [-2450., -2000.,    50.,   365.,  1000.,  1100.],\n",
       "       [-2400., -1750.,    50.,   365.,  1000.,  1160.],\n",
       "       [-2150., -1200.,    50.,   365.,  1000.,  1480.],\n",
       "       [-2150., -1200.,    50.,   365.,  1000.,  1500.],\n",
       "       [-2100.,  -910.,    50.,   365.,  1000.,  1830.],\n",
       "       [-2100.,  -850.,    50.,   365.,  1000.,  2001.],\n",
       "       [-2000.,  -750.,    50.,   365.,  1000.,  2420.],\n",
       "       [-1980.,  -680.,    50.,   365.,  1000.,  2480.],\n",
       "       [-1950.,  -550.,    50.,   365.,  1000.,  2600.],\n",
       "       [-1950.,  -530.,    50.,   365.,  1000.,  2850.],\n",
       "       [-1900.,  -500.,    50.,   365.,  1000.,  3135.],\n",
       "       [-1900.,  -450.,    50.,   365.,  1000.,  3240.],\n",
       "       [-1860.,  -450.,    50.,   365.,  1000.,  3500.],\n",
       "       [-1850.,  -440.,    50.,   365.,  1000.,  3600.],\n",
       "       [-1850.,  -400.,    50.,   365.,  1000.,  3801.],\n",
       "       [-1850.,  -400.,    50.,   365.,  1000.,  4481.],\n",
       "       [-1800.,  -400.,    50.,   365.,  1000.,  4600.],\n",
       "       [-1750.,  -350.,    50.,   365.,  1000.,  4676.],\n",
       "       [-1750.,  -350.,    50.,   365.,  1000.,  4850.],\n",
       "       [-1750.,  -350.,    50.,   365.,  1000.,  5010.],\n",
       "       [-1700.,  -250.,    50.,   365.,  1000.,  5050.],\n",
       "       [-1700.,  -250.,    50.,   365.,  1000.,  5241.],\n",
       "       [-1650.,  -100.,    50.,   365.,  1000.,  5280.],\n",
       "       [-1450.,   -50.,    50.,   365.,  1000.,  5500.],\n",
       "       [-1300.,     0.,    50.,   365.,  1000.,  5650.],\n",
       "       [ -750.,    50.,    50.,   365.,  1000.,  5950.],\n",
       "       [ -350.,    50.,   150.,   365.,  1000.,  6160.],\n",
       "       [ -350.,    50.,   200.,   365.,  1000.,  6351.],\n",
       "       [ -300.,    50.,   250.,   365.,  1000.,  6400.],\n",
       "       [    0.,    50.,   365.,   540.,  1000.,  6651.],\n",
       "       [   35.,   100.,   365.,   550.,  1000.,  6750.],\n",
       "       [   35.,   140.,   365.,   600.,  1000.,  6800.],\n",
       "       [   35.,   150.,   365.,   600.,  1000.,  6801.],\n",
       "       [   35.,   200.,   365.,   700.,  1000.,  6900.],\n",
       "       [   40.,   200.,   365.,   850.,  1000.,  6971.],\n",
       "       [   40.,   250.,   365.,   850.,  1000.,  7010.],\n",
       "       [   40.,   300.,   365.,   900.,  1000.,  7241.],\n",
       "       [   40.,   350.,   365.,  1000.,  1000.,  7250.],\n",
       "       [   40.,   350.,   365.,  1000.,  1150.,  7276.],\n",
       "       [   40.,   350.,   365.,  1000.,  1250.,  7400.],\n",
       "       [   40.,   350.,   365.,  1000.,  1320.,  7500.],\n",
       "       [   40.,   365.,   400.,  1000.,  1420.,  7520.],\n",
       "       [   40.,   365.,   450.,  1000.,  1450.,  7551.],\n",
       "       [   40.,   365.,   450.,  1000.,  1450.,  7560.],\n",
       "       [   40.,   365.,   450.,  1000.,  1500.,  7611.],\n",
       "       [   40.,   365.,   450.,  1000.,  1550.,  7676.],\n",
       "       [   40.,   365.,   500.,  1000.,  1590.,  7690.],\n",
       "       [   40.,   365.,   500.,  1000.,  1650.,  7700.],\n",
       "       [   40.,   365.,   550.,  1000.,  1660.,  7781.],\n",
       "       [   40.,   365.,   550.,  1000.,  1700.,  7860.],\n",
       "       [   40.,   365.,   570.,  1000.,  1700.,  8010.],\n",
       "       [   40.,   365.,   610.,  1000.,  1750.,  8065.],\n",
       "       [   40.,   365.,   630.,  1000.,  1850.,  8171.],\n",
       "       [   40.,   365.,   640.,  1000.,  1850.,  8201.],\n",
       "       [   40.,   365.,   650.,  1000.,  2000.,  8250.],\n",
       "       [   40.,   365.,   650.,  1000.,  2000.,  8300.],\n",
       "       [   40.,   365.,   710.,  1000.,  2000.,  8390.],\n",
       "       [   40.,   365.,   750.,  1000.,  2000.,  8430.],\n",
       "       [   40.,   365.,   750.,  1000.,  2000.,  8450.],\n",
       "       [   40.,   365.,   750.,  1000.,  2000.,  8501.],\n",
       "       [   40.,   365.,   750.,  1000.,  2000.,  8561.],\n",
       "       [   40.,   365.,   750.,  1000.,  2001.,  8648.],\n",
       "       [   40.,   365.,   750.,  1000.,  2050.,  8918.],\n",
       "       [   40.,   365.,   750.,  1000.,  2050.,  8931.],\n",
       "       [   40.,   365.,   800.,  1000.,  2100.,  8996.],\n",
       "       [   40.,   365.,   800.,  1000.,  2100.,  9040.],\n",
       "       [   40.,   365.,   800.,  1000.,  2120.,  9040.],\n",
       "       [   40.,   365.,   800.,  1000.,  2150.,  9050.],\n",
       "       [   40.,   365.,   800.,  1000.,  2150.,  9081.],\n",
       "       [   40.,   365.,   850.,  1000.,  2200.,  9151.],\n",
       "       [   40.,   365.,   900.,  1050.,  2200.,  9220.],\n",
       "       [   40.,   365.,  1000.,  1050.,  2250.,  9220.],\n",
       "       [   40.,   365.,  1000.,  1250.,  2250.,  9350.],\n",
       "       [   40.,   365.,  1000.,  1250.,  2250.,  9370.],\n",
       "       [   40.,   365.,  1000.,  1250.,  2250.,  9701.],\n",
       "       [   40.,   365.,  1000.,  1315.,  2250.,  9760.],\n",
       "       [   40.,   365.,  1000.,  1400.,  2265.,  9781.],\n",
       "       [   40.,   365.,  1000.,  1400.,  2350.,  9876.],\n",
       "       [   40.,   365.,  1000.,  1450.,  2350., 10000.],\n",
       "       [   40.,   365.,  1000.,  1600.,  2400., 10000.],\n",
       "       [   40.,   365.,  1000.,  1680.,  2401., 10100.],\n",
       "       [   40.,   365.,  1000.,  1730.,  2480., 10118.],\n",
       "       [   40.,   365.,  1000.,  1750.,  2500., 10150.],\n",
       "       [   40.,   365.,  1000.,  1751.,  2521., 10201.],\n",
       "       [   40.,   365.,  1000.,  1800.,  2550., 10300.],\n",
       "       [   40.,   365.,  1000.,  1900.,  2550., 10305.],\n",
       "       [   40.,   365.,  1000.,  1900.,  2601., 10360.],\n",
       "       [   40.,   365.,  1000.,  1900.,  2601., 10381.],\n",
       "       [   40.,   365.,  1000.,  1901.,  2650., 10431.],\n",
       "       [   40.,   365.,  1000.,  1920.,  2650., 10451.],\n",
       "       [   40.,   365.,  1000.,  1940.,  2650., 10650.],\n",
       "       [   40.,   365.,  1000.,  1960.,  2700., 10681.],\n",
       "       [   40.,   365.,  1000.,  2000.,  2701., 10700.],\n",
       "       [   40.,   365.,  1000.,  2000.,  2730., 10723.],\n",
       "       [   40.,   365.,  1000.,  2000.,  2750., 10761.],\n",
       "       [   40.,   365.,  1000.,  2000.,  2750., 10770.],\n",
       "       [   40.,   365.,  1000.,  2000.,  2800., 10790.],\n",
       "       [   40.,   365.,  1000.,  2000.,  2880., 10850.]])"
      ]
     },
     "execution_count": 75,
     "metadata": {},
     "output_type": "execute_result"
    }
   ],
   "source": [
    "lending_company[:100]"
   ]
  },
  {
   "cell_type": "code",
   "execution_count": 76,
   "metadata": {},
   "outputs": [],
   "source": [
    "nums_array.sort(axis=1)"
   ]
  },
  {
   "cell_type": "code",
   "execution_count": 77,
   "metadata": {},
   "outputs": [
    {
     "data": {
      "text/plain": [
       "array([[ 0., 11., 12., 14.],\n",
       "       [ 0.,  0., 21., 24.],\n",
       "       [31., 32., 33., 34.]])"
      ]
     },
     "execution_count": 77,
     "metadata": {},
     "output_type": "execute_result"
    }
   ],
   "source": [
    "nums_array"
   ]
  },
  {
   "cell_type": "code",
   "execution_count": 78,
   "metadata": {},
   "outputs": [
    {
     "data": {
      "text/plain": [
       "array([[14., 12., 11.,  0.],\n",
       "       [24., 21.,  0.,  0.],\n",
       "       [34., 33., 32., 31.]])"
      ]
     },
     "execution_count": 78,
     "metadata": {},
     "output_type": "execute_result"
    }
   ],
   "source": [
    "-np.sort(-nums_array)"
   ]
  },
  {
   "cell_type": "code",
   "execution_count": 88,
   "metadata": {},
   "outputs": [],
   "source": [
    "nums_array.sort(axis=0)"
   ]
  },
  {
   "cell_type": "code",
   "execution_count": 89,
   "metadata": {},
   "outputs": [
    {
     "data": {
      "text/plain": [
       "array([[11.,  0.,  0., 14.],\n",
       "       [21., 12.,  0., 24.],\n",
       "       [31., 32., 33., 34.]])"
      ]
     },
     "execution_count": 89,
     "metadata": {},
     "output_type": "execute_result"
    }
   ],
   "source": [
    "nums_array"
   ]
  },
  {
   "cell_type": "code",
   "execution_count": 90,
   "metadata": {},
   "outputs": [],
   "source": [
    "nums_array.sort(axis=1)"
   ]
  },
  {
   "cell_type": "code",
   "execution_count": 91,
   "metadata": {},
   "outputs": [
    {
     "data": {
      "text/plain": [
       "array([[ 0.,  0., 11., 14.],\n",
       "       [ 0., 12., 21., 24.],\n",
       "       [31., 32., 33., 34.]])"
      ]
     },
     "execution_count": 91,
     "metadata": {},
     "output_type": "execute_result"
    }
   ],
   "source": [
    "nums_array"
   ]
  },
  {
   "cell_type": "code",
   "execution_count": null,
   "metadata": {},
   "outputs": [],
   "source": []
  }
 ],
 "metadata": {
  "kernelspec": {
   "display_name": "Python 3",
   "language": "python",
   "name": "python3"
  },
  "language_info": {
   "codemirror_mode": {
    "name": "ipython",
    "version": 3
   },
   "file_extension": ".py",
   "mimetype": "text/x-python",
   "name": "python",
   "nbconvert_exporter": "python",
   "pygments_lexer": "ipython3",
   "version": "3.7.4"
  }
 },
 "nbformat": 4,
 "nbformat_minor": 2
}
