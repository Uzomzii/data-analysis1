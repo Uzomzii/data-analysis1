{
 "cells": [
  {
   "cell_type": "code",
   "execution_count": 11,
   "metadata": {},
   "outputs": [],
   "source": [
    "class Person:\n",
    "    def __init__(self, name, age, gender):\n",
    "        self.name = name\n",
    "        self.age = age\n",
    "        self.gender = gender\n",
    "    \n",
    "\n",
    "bami = Person(\"Bami\", 45, 'female')\n",
    "nemi = Person(\"Nemi\", 34, 'female')\n",
    "basi = Person(\"Basi\", 23, 'male')\n",
    "emeka = Person(\"Emeka\", 87, 'male')"
   ]
  },
  {
   "cell_type": "code",
   "execution_count": 9,
   "metadata": {},
   "outputs": [
    {
     "data": {
      "text/plain": [
       "'Bami'"
      ]
     },
     "execution_count": 9,
     "metadata": {},
     "output_type": "execute_result"
    }
   ],
   "source": [
    "bami.name"
   ]
  },
  {
   "cell_type": "code",
   "execution_count": 12,
   "metadata": {},
   "outputs": [
    {
     "data": {
      "text/plain": [
       "'Nemi'"
      ]
     },
     "execution_count": 12,
     "metadata": {},
     "output_type": "execute_result"
    }
   ],
   "source": [
    "nemi.name"
   ]
  },
  {
   "cell_type": "code",
   "execution_count": 19,
   "metadata": {},
   "outputs": [
    {
     "name": "stdout",
     "output_type": "stream",
     "text": [
      "moving at 26\n",
      "30\n"
     ]
    }
   ],
   "source": [
    "class Vehicle:\n",
    "    def __init__(self, color, current_speed, max_speed):\n",
    "        self. color = color\n",
    "        self.current_speed = current_speed\n",
    "        self.max_speed = max_speed\n",
    "        \n",
    "    def move(self):\n",
    "        return \"moving at \" + str(self.current_speed)\n",
    "    \n",
    "    def accelerate(self, amount):\n",
    "        return self.current_speed + amount\n",
    "    \n",
    "\n",
    "bmw = Vehicle(\"Blue\", 10, 60)\n",
    "toyota = Vehicle(\"Black\", 26, 100)\n",
    "\n",
    "print(toyota.move())\n",
    "print(bmw.accelerate(20))"
   ]
  },
  {
   "cell_type": "code",
   "execution_count": 24,
   "metadata": {},
   "outputs": [
    {
     "data": {
      "text/plain": [
       "3"
      ]
     },
     "execution_count": 24,
     "metadata": {},
     "output_type": "execute_result"
    }
   ],
   "source": [
    "class Workshop:\n",
    "    def __init__(self, tools, furnitures, location, name):\n",
    "        self.tools = tools\n",
    "        self.furnitures = furnitures\n",
    "        self.location = location\n",
    "        self.name = name\n",
    "    \n",
    "    def num_of_tools(self):\n",
    "        return len(self.tools)\n",
    "\n",
    "dangote = Workshop(['hammer', 'nails', 'spanner'], {'chairs': 2, 'tables':4, 'picture':'Monalisa'}, 'Abuja', \"Dangote\")\n",
    "bua = Workshop(['chisel', 'nails', 'screw driver'], {'chairs': 5, 'tables':3, 'picture':'Dogs'}, 'Lagos', \"BUA\")\n",
    "golden_penny = Workshop(['saw', 'cutter', 'plier'], {'bench': 2, 'tables':2, 'picture':'Cats'}, 'PH', \"golden penny\")\n",
    "\n",
    "bua.num_of_tools()"
   ]
  },
  {
   "cell_type": "code",
   "execution_count": 27,
   "metadata": {},
   "outputs": [
    {
     "name": "stdout",
     "output_type": "stream",
     "text": [
      "woof\n"
     ]
    }
   ],
   "source": [
    "class Mammal:\n",
    "    def __init__(self):\n",
    "        self.breed = \"Alive\"\n",
    "        self.coating = \"Hairs\"\n",
    "\n",
    "class Dog(Mammal):\n",
    "    def speak(self):\n",
    "        print(\"woof\")\n",
    "\n",
    "bingo = Dog()\n",
    "bingo.speak()"
   ]
  },
  {
   "cell_type": "code",
   "execution_count": null,
   "metadata": {},
   "outputs": [],
   "source": []
  }
 ],
 "metadata": {
  "kernelspec": {
   "display_name": "Python 3",
   "language": "python",
   "name": "python3"
  },
  "language_info": {
   "codemirror_mode": {
    "name": "ipython",
    "version": 3
   },
   "file_extension": ".py",
   "mimetype": "text/x-python",
   "name": "python",
   "nbconvert_exporter": "python",
   "pygments_lexer": "ipython3",
   "version": "3.7.4"
  }
 },
 "nbformat": 4,
 "nbformat_minor": 2
}
